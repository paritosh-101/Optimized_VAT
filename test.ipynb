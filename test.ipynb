{
 "cells": [
  {
   "cell_type": "code",
   "execution_count": 9,
   "metadata": {},
   "outputs": [
    {
     "ename": "ModuleNotFoundError",
     "evalue": "No module named 'VAT'",
     "output_type": "error",
     "traceback": [
      "\u001b[1;31m---------------------------------------------------------------------------\u001b[0m",
      "\u001b[1;31mModuleNotFoundError\u001b[0m                       Traceback (most recent call last)",
      "Cell \u001b[1;32mIn[9], line 6\u001b[0m\n\u001b[0;32m      3\u001b[0m \u001b[38;5;28;01mimport\u001b[39;00m \u001b[38;5;21;01mtime\u001b[39;00m\n\u001b[0;32m      5\u001b[0m \u001b[38;5;28;01mfrom\u001b[39;00m \u001b[38;5;21;01mvat_algorithms\u001b[39;00m \u001b[38;5;28;01mimport\u001b[39;00m VAT\n\u001b[1;32m----> 6\u001b[0m \u001b[38;5;28;01mfrom\u001b[39;00m \u001b[38;5;21;01mvat_algorithms\u001b[39;00m \u001b[38;5;28;01mimport\u001b[39;00m iVAT\n\u001b[0;32m      7\u001b[0m \u001b[38;5;28;01mfrom\u001b[39;00m \u001b[38;5;21;01mtqdm\u001b[39;00m \u001b[38;5;28;01mimport\u001b[39;00m tqdm\n",
      "File \u001b[1;32md:\\anaconda3\\envs\\torch\\Lib\\site-packages\\vat_algorithms\\iVAT.py:45\u001b[0m\n\u001b[0;32m     43\u001b[0m \u001b[38;5;28;01mimport\u001b[39;00m \u001b[38;5;21;01mnumpy\u001b[39;00m \u001b[38;5;28;01mas\u001b[39;00m \u001b[38;5;21;01mnp\u001b[39;00m\n\u001b[0;32m     44\u001b[0m \u001b[38;5;28;01mfrom\u001b[39;00m \u001b[38;5;21;01mtqdm\u001b[39;00m \u001b[38;5;28;01mimport\u001b[39;00m tqdm\n\u001b[1;32m---> 45\u001b[0m \u001b[38;5;28;01mfrom\u001b[39;00m \u001b[38;5;21;01mVAT\u001b[39;00m \u001b[38;5;28;01mimport\u001b[39;00m VAT\n\u001b[0;32m     46\u001b[0m \u001b[38;5;66;03m# from VAT_library.pq_VAT import optimized_VAT_with_pq as VAT\u001b[39;00m\n\u001b[0;32m     48\u001b[0m \u001b[38;5;28;01mdef\u001b[39;00m \u001b[38;5;21miVAT\u001b[39m(R, VATflag\u001b[38;5;241m=\u001b[39m\u001b[38;5;28;01mFalse\u001b[39;00m):\n",
      "\u001b[1;31mModuleNotFoundError\u001b[0m: No module named 'VAT'"
     ]
    }
   ],
   "source": [
    "import numpy as np\n",
    "import matplotlib.pyplot as plt\n",
    "import time\n",
    "\n",
    "from vat_algorithms import VAT\n",
    "from vat_algorithms import iVAT\n",
    "from tqdm import tqdm\n",
    "\n",
    "from sklearn.datasets import make_classification\n",
    "from sklearn.datasets import make_blobs\n",
    "from scipy.spatial.distance import cdist"
   ]
  },
  {
   "cell_type": "code",
   "execution_count": 6,
   "metadata": {},
   "outputs": [
    {
     "ename": "AttributeError",
     "evalue": "module 'vat_algorithms.VAT' has no attribute 'iVAT'",
     "output_type": "error",
     "traceback": [
      "\u001b[1;31m---------------------------------------------------------------------------\u001b[0m",
      "\u001b[1;31mAttributeError\u001b[0m                            Traceback (most recent call last)",
      "Cell \u001b[1;32mIn[6], line 50\u001b[0m\n\u001b[0;32m     47\u001b[0m     plt\u001b[38;5;241m.\u001b[39mshow()\n\u001b[0;32m     49\u001b[0m \u001b[38;5;66;03m# To run the comparison, you can call:\u001b[39;00m\n\u001b[1;32m---> 50\u001b[0m \u001b[43mimage_test\u001b[49m\u001b[43m(\u001b[49m\u001b[43m)\u001b[49m\n",
      "Cell \u001b[1;32mIn[6], line 21\u001b[0m, in \u001b[0;36mimage_test\u001b[1;34m()\u001b[0m\n\u001b[0;32m     18\u001b[0m pairwise_dist \u001b[38;5;241m=\u001b[39m cdist(data, data)\n\u001b[0;32m     20\u001b[0m \u001b[38;5;66;03m# Apply the original VAT function\u001b[39;00m\n\u001b[1;32m---> 21\u001b[0m RV_original, _, _, _, _ \u001b[38;5;241m=\u001b[39m \u001b[43mVAT\u001b[49m\u001b[38;5;241;43m.\u001b[39;49m\u001b[43miVAT\u001b[49m(pairwise_dist)\n\u001b[0;32m     23\u001b[0m \u001b[38;5;66;03m# Plotting\u001b[39;00m\n\u001b[0;32m     24\u001b[0m plt\u001b[38;5;241m.\u001b[39mfigure(figsize\u001b[38;5;241m=\u001b[39m(\u001b[38;5;241m12\u001b[39m, \u001b[38;5;241m12\u001b[39m))\n",
      "\u001b[1;31mAttributeError\u001b[0m: module 'vat_algorithms.VAT' has no attribute 'iVAT'"
     ]
    }
   ],
   "source": [
    "def image_test():\n",
    "    # Generate a synthetic dataset with 4 clusters\n",
    "\n",
    "    # data, _ = make_classification(n_samples=100, n_features=2, n_redundant=0, n_informative=2, n_classes=2, n_clusters_per_class=1,\n",
    "    #                             class_sep=2.0, shuffle=True)\n",
    "\n",
    "    # change center_box value to manipulate the data distribution\n",
    "    data, _ = make_blobs(n_samples=100, centers=4, cluster_std=0.5, random_state=42, center_box=(0, 20))\n",
    "    \n",
    "    # # Compute the dissimilarity matrix (Euclidean distance)\n",
    "    # pairwise_dist = np.linalg.norm(data[:, np.newaxis] - data, axis=2)\n",
    "\n",
    "    # use cdist to compute the pairwise distance\n",
    "    pairwise_dist = cdist(data, data)\n",
    "\n",
    "    # Apply the original VAT function\n",
    "    RV_original, _, _, _, _ = iVAT.iVAT(pairwise_dist)\n",
    "\n",
    "    # Plotting\n",
    "    plt.figure(figsize=(12, 12))\n",
    "\n",
    "    # Data distribution\n",
    "    plt.subplot(1, 2, 1)\n",
    "    plt.scatter(data[:, 0], data[:, 1], c='blue', marker='o')\n",
    "    plt.title('Data Distribution')\n",
    "\n",
    "    # Original VAT\n",
    "    plt.subplot(1, 2, 2)\n",
    "    plt.imshow(RV_original, cmap='gray')\n",
    "    plt.title('Original VAT')\n",
    "\n",
    "    plt.tight_layout()\n",
    "    plt.show()\n",
    "\n",
    "# To run the comparison, you can call:\n",
    "image_test()"
   ]
  }
 ],
 "metadata": {
  "kernelspec": {
   "display_name": "torch",
   "language": "python",
   "name": "python3"
  },
  "language_info": {
   "codemirror_mode": {
    "name": "ipython",
    "version": 3
   },
   "file_extension": ".py",
   "mimetype": "text/x-python",
   "name": "python",
   "nbconvert_exporter": "python",
   "pygments_lexer": "ipython3",
   "version": "3.11.5"
  },
  "orig_nbformat": 4
 },
 "nbformat": 4,
 "nbformat_minor": 2
}
